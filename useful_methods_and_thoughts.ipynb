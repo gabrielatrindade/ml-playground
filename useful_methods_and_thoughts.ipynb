{
 "cells": [
  {
   "cell_type": "markdown",
   "metadata": {},
   "source": [
    "# Scikit Learn"
   ]
  },
  {
   "cell_type": "code",
   "execution_count": 1,
   "metadata": {},
   "outputs": [
    {
     "data": {
      "text/plain": [
       "dict_keys(['explained_variance', 'r2', 'max_error', 'neg_median_absolute_error', 'neg_mean_absolute_error', 'neg_mean_squared_error', 'neg_mean_squared_log_error', 'neg_root_mean_squared_error', 'neg_mean_poisson_deviance', 'neg_mean_gamma_deviance', 'accuracy', 'roc_auc', 'roc_auc_ovr', 'roc_auc_ovo', 'roc_auc_ovr_weighted', 'roc_auc_ovo_weighted', 'balanced_accuracy', 'average_precision', 'neg_log_loss', 'neg_brier_score', 'adjusted_rand_score', 'homogeneity_score', 'completeness_score', 'v_measure_score', 'mutual_info_score', 'adjusted_mutual_info_score', 'normalized_mutual_info_score', 'fowlkes_mallows_score', 'precision', 'precision_macro', 'precision_micro', 'precision_samples', 'precision_weighted', 'recall', 'recall_macro', 'recall_micro', 'recall_samples', 'recall_weighted', 'f1', 'f1_macro', 'f1_micro', 'f1_samples', 'f1_weighted', 'jaccard', 'jaccard_macro', 'jaccard_micro', 'jaccard_samples', 'jaccard_weighted'])"
      ]
     },
     "execution_count": 1,
     "metadata": {},
     "output_type": "execute_result"
    }
   ],
   "source": [
    "import sklearn.metrics\n",
    "\n",
    "sklearn.metrics.SCORERS.keys()"
   ]
  },
  {
   "cell_type": "code",
   "execution_count": 2,
   "metadata": {},
   "outputs": [
    {
     "name": "stdout",
     "output_type": "stream",
     "text": [
      "The scikit-learn version is 0.22.1.\n"
     ]
    }
   ],
   "source": [
    "print('The scikit-learn version is {}.'.format(sklearn.__version__))"
   ]
  },
  {
   "cell_type": "markdown",
   "metadata": {},
   "source": [
    "## how to get a score - understanding .score()\n",
    "from [kaggle discussion](https://www.kaggle.com/getting-started/27261)\n",
    "\n",
    "if Ytest is the real labels for Xtest <br>\n",
    "&emsp;     logreg.score(X_test, Y_test) <br>\n",
    "&emsp;     (here you did not need to explicitly calculate Y_test' of X_test. The library does this internally.) <br>\n",
    "is comparing the predictions of the model against the real labels. <br>\n",
    "<br>\n",
    "In other words: <br>\n",
    "<br>\n",
    "A. predictor.score(X,Y) internally calculates Y'=predictor.predict(X) <br>\n",
    "and then compares Y' against Y to give an accuracy measure. <br>\n",
    "This applies not only to logistic regression but to any other model. <br>\n",
    "<br>\n",
    "B. logreg.score(Xtrain,Ytrain) is measuring the accuracy of the model against the training data. <br>\n",
    "(How well the model explains the data it was trained with). <br>\n",
    "<-- But note that this has nothing to do with test data. <br>\n",
    "<br>\n",
    "C. logreg.score(Xtest, Ytest) is equivalent to your print(classificationreport(**Ytest, Ypred**)). <br>\n",
    "But you do not need to calculate Ypred; that is done internally by the library <br>"
   ]
  },
  {
   "cell_type": "markdown",
   "metadata": {},
   "source": [
    "**test_split example**\n",
    "\n",
    "`lr/clf = algorithm()` <br>\n",
    "\n",
    "*accuracy score*<br>\n",
    "`lr.score(x_test, y_test)` <br>\n",
    "\n",
    "*for a specific metric* <br>\n",
    "`y_prediction_lr = lr.predict(x_test)` <br>\n",
    "`mean_squared_error(y_test, y_prediction_lr)` <br>"
   ]
  },
  {
   "cell_type": "markdown",
   "metadata": {},
   "source": [
    "**cross_validation example** <br>\n",
    "\n",
    "`lr/clf = algorithm()` <br>\n",
    "\n",
    "*scoring you chose* <br>\n",
    "`cross_val_score(clf, train, target, cv=k_fold, n_jobs=1, scoring=scoring)` <br>\n",
    "\n",
    "*for a specific metric* <br>\n",
    "`y_pred = cross_val_predict(clf, train, target, cv=k_fold)` <br>\n",
    "`confusion_matrix(target, y_pred)` <br>"
   ]
  },
  {
   "cell_type": "code",
   "execution_count": null,
   "metadata": {},
   "outputs": [],
   "source": []
  }
 ],
 "metadata": {
  "kernelspec": {
   "display_name": "Python 3",
   "language": "python",
   "name": "python3"
  },
  "language_info": {
   "codemirror_mode": {
    "name": "ipython",
    "version": 3
   },
   "file_extension": ".py",
   "mimetype": "text/x-python",
   "name": "python",
   "nbconvert_exporter": "python",
   "pygments_lexer": "ipython3",
   "version": "3.7.7"
  }
 },
 "nbformat": 4,
 "nbformat_minor": 4
}
